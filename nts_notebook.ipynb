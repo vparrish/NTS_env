{
 "cells": [
  {
   "cell_type": "markdown",
   "metadata": {},
   "source": [
    "# First read the VNA frequency scan CSV files"
   ]
  },
  {
   "cell_type": "code",
   "execution_count": null,
   "metadata": {},
   "outputs": [],
   "source": [
    "import os\n",
    "import pandas as pd\n",
    "import matplotlib.pyplot as plt\n",
    "\n",
    "def read_csv_files(directory, target_frequency):\n",
    "    plot_data = {}\n",
    "    for filename in os.listdir(directory):\n",
    "        if filename.endswith('.csv') and ('FS' in filename or 'VNA' in filename) and '11' in filename:\n",
    "            date = filename[:6]\n",
    "            filepath = os.path.join(directory, filename)\n",
    "            df = pd.read_csv(filepath)\n",
    "            row = df[df.iloc[:, 0] == target_frequency]\n",
    "            if not row.empty:\n",
    "                wp = 'wp1' if 'wp1' in filename else 'wp0'\n",
    "                linestyle = '--' if wp == 'wp1' else '-'\n",
    "                color_start = filename.find(wp) + 3\n",
    "                color_end = filename.find('FS') if 'FS' in filename else filename.find('VNA')\n",
    "                color = filename[color_start:color_end]\n",
    "                color = 'pink' if color == 'p' else 'grey' if color == 'w' else color\n",
    "                if wp not in plot_data:\n",
    "                    plot_data[wp] = {}\n",
    "                if color not in plot_data[wp]:\n",
    "                    plot_data[wp][color] = {}\n",
    "                if date not in plot_data[wp][color]:\n",
    "                    plot_data[wp][color][date] = {}\n",
    "                for column in df.columns[1:]:\n",
    "                    if column not in plot_data[wp][color][date]:\n",
    "                        plot_data[wp][color][date][column] = row[column].values[0]\n",
    "    return plot_data\n",
    "\n"
   ]
  },
  {
   "cell_type": "markdown",
   "metadata": {},
   "source": [
    "# Prepare the env data CSV file for date matching "
   ]
  },
  {
   "cell_type": "code",
   "execution_count": null,
   "metadata": {},
   "outputs": [],
   "source": [
    "\n",
    "def read_processed_output(processed_output_file, x_axis_variable):\n",
    "    processed_df = pd.read_csv(processed_output_file)\n",
    "    env_data = {}\n",
    "    for index, row in processed_df.iterrows():\n",
    "        date = row['Date']\n",
    "        env_info = row[x_axis_variable]\n",
    "        env_data[date] = env_info\n",
    "    return env_data\n"
   ]
  },
  {
   "cell_type": "markdown",
   "metadata": {},
   "source": [
    "# Prepare the plotting function\n",
    "Takes the columns from the prepared env csv file and uses them as the x axis in replacement to the dates from the FS variables"
   ]
  },
  {
   "cell_type": "code",
   "execution_count": 40,
   "metadata": {},
   "outputs": [],
   "source": [
    "def plot_data(plot_data, env_data, plot_outdir, target_frequency, x_axis_variable, variable_keywords=None, colors=None):\n",
    "    if not os.path.exists(plot_outdir):\n",
    "        os.makedirs(plot_outdir)\n",
    "    for wp, colors_dict in plot_data.items():\n",
    "        for color, dates in colors_dict.items():\n",
    "            if colors and color not in colors:\n",
    "                continue\n",
    "            for column in next(iter(dates.values())).keys():\n",
    "                if variable_keywords and not any(keyword.lower() in column.lower() for keyword in variable_keywords):\n",
    "                    continue\n",
    "                plt.figure()\n",
    "                sorted_dates = sorted(dates.keys())\n",
    "                for date in sorted_dates:\n",
    "                    columns = dates[date]\n",
    "                    formatted_date = f\"20{date[4:6]}-{date[:2]}-{date[2:4]}\"\n",
    "                    if column in columns and formatted_date in env_data:\n",
    "                        plt.plot(env_data[formatted_date], columns[column], 'o', linestyle='--' if wp == 'wp1' else '-', label=date)\n",
    "                plt.xlabel(x_axis_variable)\n",
    "                plt.ylabel(column)\n",
    "                plt.title(f'{column} at {target_frequency} Hz - {wp} - {color.replace(\"grey\", \"white\")}')\n",
    "                plt.legend()\n",
    "                plt.savefig(os.path.join(plot_outdir, f'{column}_{target_frequency}Hz_{wp}_{color}.png'))\n",
    "                plt.close()\n",
    "\n"
   ]
  },
  {
   "cell_type": "markdown",
   "metadata": {},
   "source": [
    "# Run the plotting script \n",
    "By grabbing the updated env csv and FS files"
   ]
  },
  {
   "cell_type": "code",
   "execution_count": 41,
   "metadata": {},
   "outputs": [],
   "source": [
    "def plot_data_with_dates(directory, plot_outdir, target_frequency, x_axis_variable, processed_output_file, variable_keywords=None, colors=None):\n",
    "    plot_data_dict = read_csv_files(directory, target_frequency)\n",
    "    env_data_dict = read_processed_output(processed_output_file, x_axis_variable)\n",
    "    plot_data(plot_data_dict, env_data_dict, plot_outdir, target_frequency, x_axis_variable, variable_keywords, colors)\n",
    "\n"
   ]
  },
  {
   "cell_type": "markdown",
   "metadata": {},
   "source": [
    "# User usage below"
   ]
  },
  {
   "cell_type": "code",
   "execution_count": 42,
   "metadata": {},
   "outputs": [],
   "source": [
    "from datetime import datetime\n",
    "\n",
    "directory = '/home/victoria/work/icecube/service/nts/NTS_VNA'\n",
    "processed_output_file = '/home/victoria/work/icecube/service/nts/NTS_VNA/processed_output.csv'\n",
    "today_date = datetime.today().strftime('%Y%m%d')\n",
    "plot_outdir = f'/home/victoria/work/icecube/service/nts/NTS_VNA/plots_{today_date}'\n",
    "\n",
    "target_frequency = 8000\n",
    "variable_keywords = ['magnitude', 'impedance']\n",
    "x_axis_variable = 'Humidity'\n",
    "# x_axis_variable = 'Wire Temp [C]'\n",
    "# x_axis_variable = 'Air Temp [C]'\n",
    "colors_to_plot = ['pink', 'grey']\n",
    "\n",
    "plot_data_with_dates(directory, plot_outdir, target_frequency, x_axis_variable, processed_output_file, variable_keywords=variable_keywords, colors=colors_to_plot)"
   ]
  },
  {
   "cell_type": "code",
   "execution_count": null,
   "metadata": {},
   "outputs": [],
   "source": []
  }
 ],
 "metadata": {
  "kernelspec": {
   "display_name": ".venv",
   "language": "python",
   "name": "python3"
  },
  "language_info": {
   "codemirror_mode": {
    "name": "ipython",
    "version": 3
   },
   "file_extension": ".py",
   "mimetype": "text/x-python",
   "name": "python",
   "nbconvert_exporter": "python",
   "pygments_lexer": "ipython3",
   "version": "3.10.12"
  }
 },
 "nbformat": 4,
 "nbformat_minor": 2
}
